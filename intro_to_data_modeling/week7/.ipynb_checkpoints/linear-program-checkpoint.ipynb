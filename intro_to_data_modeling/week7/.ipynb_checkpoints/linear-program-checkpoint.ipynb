{
 "cells": [
  {
   "cell_type": "markdown",
   "metadata": {},
   "source": [
    "# Week 7 - Linear Programming\n",
    "\n",
    "## Question 15.2\n",
    "\n",
    "In the videos, we saw the “diet problem”. (The diet problem is one of the first large-scale optimization\n",
    "problems to be studied in practice. Back in the 1930’s and 40’s, the Army wanted to meet the nutritional\n",
    "requirements of its soldiers while minimizing the cost.) In this homework you get to solve a diet problem\n",
    "with real data. The data is given in the file diet.xls.\n",
    "\n",
    "1. Formulate an optimization model (a linear program) to find the cheapest diet that satisfies the maximum and minimum daily nutrition constraints, and solve it using PuLP. Turn in your code and the solution. (The optimal solution should be a diet of air-popped popcorn, poached eggs, oranges, raw iceberg lettuce, raw celery, and frozen broccoli. UGH!)\n",
    "2. Please add to your model the following constraints (which might require adding more variables) and solve the new model:\n",
    "    a. If a food is selected, then a minimum of 1/10 serving must be chosen. (Hint: now you will need two variables for each food i: whether it is chosen, and how much is part of the diet. You’ll also need to write a constraint to link them.)\n",
    "    b. Many people dislike celery and frozen broccoli. So at most one, but not both, can be selected.\n",
    "    c. To get day-to-day variety in protein, at least 3 kinds of meat/poultry/fish/eggs must be selected. [If something is ambiguous (e.g., should bean-and-bacon soup be considered  meat?), just call it whatever you think is appropriate – I want you to learn how to write this type of constraint, but I don’t really care whether we agree on how to classify foods!]"
   ]
  },
  {
   "cell_type": "code",
   "execution_count": null,
   "metadata": {
    "collapsed": true
   },
   "outputs": [],
   "source": []
  }
 ],
 "metadata": {
  "kernelspec": {
   "display_name": "Python 3",
   "language": "python",
   "name": "python3"
  },
  "language_info": {
   "codemirror_mode": {
    "name": "ipython",
    "version": 3
   },
   "file_extension": ".py",
   "mimetype": "text/x-python",
   "name": "python",
   "nbconvert_exporter": "python",
   "pygments_lexer": "ipython3",
   "version": "3.6.1"
  }
 },
 "nbformat": 4,
 "nbformat_minor": 2
}
